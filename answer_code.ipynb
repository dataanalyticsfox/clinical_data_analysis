{
 "cells": [
  {
   "cell_type": "markdown",
   "id": "25444679-542f-4b03-91a7-df18a34e483e",
   "metadata": {
    "collapsed": false,
    "name": "cell10"
   },
   "source": [
    "2. Medical Device Company A comes to us and wants to find out how many patients with diabetes are under 75, have the following diagnostic codes: 408850009, 232063007, 232053004, a total Cholesterol reading between 185 and 230, and a diastolic blood pressure reading of over 100. How many patients meet this criteria? How would you report this information back to Medical Device Company A?"
   ]
  },
  {
   "cell_type": "code",
   "execution_count": null,
   "id": "87d51279-c30a-4550-8e7f-7734c2309443",
   "metadata": {
    "codeCollapsed": false,
    "collapsed": false,
    "language": "sql",
    "name": "cell9"
   },
   "outputs": [],
   "source": [
    "-- Question 2 SQL answer\n",
    "select count(*) as patient_count\n",
    "from patient_clinical pc\n",
    "join patient_demographics pd ON pc.patient_id=pd.patient_id \n",
    "join patient_history ph ON pc.patient_id=pd.patient_id\n",
    "where pc.diagnosis_code in ('408850009', '232063007', '232053004')\n",
    "AND pc.TOTCHOL BETWEEN 185 and 230\n",
    "AND pc.DIABP > 100 \n",
    "AND pd.age < 75 \n",
    "AND ph.diabetes = 1;\n"
   ]
  },
  {
   "cell_type": "code",
   "execution_count": null,
   "id": "ce4fc72a-127d-41a8-b6e9-73d55c2a26ef",
   "metadata": {
    "codeCollapsed": false,
    "collapsed": false,
    "language": "python",
    "name": "cell6",
    "vscode": {
     "languageId": "python"
    }
   },
   "outputs": [],
   "source": [
    "# Question 3 Python answer\n",
    "import pandas as pd\n",
    "\n",
    "def open_and_clean(csv_file):\n",
    "    # open csv file as a dataframe\n",
    "    heart_df = pd.read_csv(csv_file)\n",
    "\n",
    "    # set column headers to lower for consistency\n",
    "    heart_df.columns = heart_df.columns.str.lower()\n",
    "\n",
    "    # drop columns with all null values, keep patient_id and note columns\n",
    "    heart_df.dropna(axis=1, how='all', inplace=True)\n",
    "\n",
    "    return heart_df\n",
    "\n",
    "# function to search for keywords in csv\n",
    "def contains_keyword(note):\n",
    "    keywords = [\n",
    "    'heart attack', 'pain in chest', 'pain in the chest', 'fluttering', \n",
    "    'pressure in chest', 'tightness in chest', 'chest pain', 'pressure in the chest'\n",
    "]\n",
    "    note = note.lower()\n",
    "    return any(keyword in note for keyword in keywords)\n",
    "\n",
    "def main():\n",
    "    # user defined file path \n",
    "    csv_file = '/Users/carrieminerich/Desktop/verana/patient_note.csv'\n",
    "\n",
    "    # run open_and_clean function\n",
    "    heart_df = open_and_clean(csv_file)\n",
    "\n",
    "    # create final_heart_df by including only keywords from heart_df\n",
    "    final_heart_df = heart_df[heart_df['note'].apply(contains_keyword)]\n",
    "\n",
    "    # count of rows in final_heart_df\n",
    "    print(f\"Count of rows in final_heart_df: {len(final_heart_df)}\")\n",
    "\n",
    "    final_heart_df.to_csv('filterd_heart_dataset.csv', index=False) \n",
    "\n",
    "if __name__ == \"__main__\":\n",
    "    main()"
   ]
  },
  {
   "cell_type": "code",
   "execution_count": null,
   "id": "4668b1aa-bccc-43f8-a401-b06f0c35299e",
   "metadata": {
    "collapsed": false,
    "language": "sql",
    "name": "cell1"
   },
   "outputs": [],
   "source": [
    "-- Question 3 SQL answer\n",
    "SELECT --\n",
    "  COUNT(DISTINCT patient_id) AS heart_patient_count\n",
    "FROM\n",
    "  VERANA.PUBLIC.patient_note\n",
    "WHERE\n",
    "  note ILIKE '%heart attack%'\n",
    "  OR note ILIKE '%pain in chest%'\n",
    "  OR note ILIKE '%pain in the chest%'\n",
    "  OR note ILIKE '%fluttering%'\n",
    "  OR note ILIKE '%pressure in chest%'\n",
    "  OR note ILIKE '%tightness in chest%'\n",
    "  OR note ILIKE '%chest pain%' \n",
    "  OR note ILIKE '%pressure in the chest%'\n",
    "  ;\n",
    "\n"
   ]
  },
  {
   "cell_type": "code",
   "execution_count": null,
   "id": "0a9c8c95-d7b6-4532-b7c9-36bef6bda0f3",
   "metadata": {
    "collapsed": false,
    "language": "sql",
    "name": "cell3"
   },
   "outputs": [],
   "source": [
    "-- Question 4 SQL answer\n",
    "WITH heart_patient_count AS (\n",
    "  SELECT\n",
    "    patient_id\n",
    "  FROM\n",
    "    patient_note\n",
    "  WHERE\n",
    "    note ILIKE '%heart attack%'\n",
    "  OR note ILIKE '%pain in chest%'\n",
    "  OR note ILIKE '%fluttering%'\n",
    "  OR note ILIKE '%pressure in chest%'\n",
    "  OR note ILIKE '%tightness in chest%'\n",
    "  OR note ILIKE '%chest pain%' \n",
    ")\n",
    "SELECT\n",
    "  COUNT(DISTINCT pd.patient_id) AS heart_patient_count\n",
    "FROM heart_patient_count hpc\n",
    "  JOIN patient_demographics pd ON hpc.patient_id = pd.patient_id\n",
    "  JOIN patient_clinical pc ON pd.patient_id = pc.patient_id\n",
    "WHERE\n",
    "  pd.male = 1\n",
    "  AND (\n",
    "    pc.diagnosis_code = '232065000'\n",
    "    OR pc.diagnosis_code = 'H35.52'\n",
    "  );\n",
    "\n"
   ]
  },
  {
   "cell_type": "code",
   "execution_count": null,
   "id": "7dcfd63b-0ce4-43e5-a2cf-90493e5b9e2c",
   "metadata": {
    "collapsed": false,
    "language": "python",
    "name": "cell8",
    "vscode": {
     "languageId": "python"
    }
   },
   "outputs": [],
   "source": [
    "# Question 5 Python answer\n",
    "import pandas as pd\n",
    "from scipy import stats\n",
    "\n",
    "# open csv and set as dataframe\n",
    "patient_clinical_df = pd.read_csv('/Users/carrieminerich/Desktop/verana/patient_clinical.csv')\n",
    "patient_demographics_df = pd.read_csv('/Users/carrieminerich/Desktop/verana/patient_demographics.csv')\n",
    "\n",
    "# make sure column headers are lower case for easier analysis\n",
    "patient_clinical_df.columns = patient_clinical_df.columns.str.lower()\n",
    "patient_demographics_df.columns = patient_demographics_df.columns.str.lower()\n",
    "\n",
    "# merge dfs on patient_id\n",
    "merged_df = patient_clinical_df.merge(patient_demographics_df, on='patient_id')\n",
    "\n",
    "# separate merged_df into men and women df\n",
    "men_df = merged_df[merged_df['male'] ==1]\n",
    "women_df = merged_df[merged_df['male'] == 0]\n",
    "\n",
    "# calculate distribution \n",
    "distribution_men = men_df['tenyearchd'].value_counts(normalize=True)\n",
    "distribution_women = women_df['tenyearchd'].value_counts(normalize=True)\n",
    "\n",
    "print(f\"Distribution of TenYearCHD among men:{distribution_men}\")\n",
    "print(f\"Distribution of TenYearCHD among women:{distribution_women}\")\n",
    "\n",
    "# matrix is count of occurance for each value male and tenyearchd\n",
    "matrix = pd.crosstab(merged_df['male'], merged_df['tenyearchd'])\n",
    "print(matrix)\n",
    "\n",
    "chi2, p, _, _ = stats.chi2_contingency(matrix)\n",
    "\n",
    "print(f\"\\nChi-Square Test Statistic: {chi2}\")\n",
    "print(f\"P-Value: {p}\")\n",
    "\n",
    "# print results\n",
    "if p < 0.05:\n",
    "    print(\"\\nThe result is statistically significant. There is an association between gender and TenYearCHD.\")\n",
    "else:\n",
    "    print(\"\\nThe result is not statistically significant. There is no strong evidence of an association between gender and TenYearCHD.\")\n"
   ]
  },
  {
   "cell_type": "code",
   "execution_count": null,
   "id": "0ce0a205-c27f-4471-a4f5-2b4b15e15da6",
   "metadata": {
    "language": "python",
    "name": "cell2",
    "vscode": {
     "languageId": "python"
    }
   },
   "outputs": [],
   "source": [
    "# Question 6 Python answer\n",
    "import pandas as pd\n",
    "from scipy import stats\n",
    "import plotly.express as px\n",
    "\n",
    "# open csv and create df\n",
    "patient_history_df = pd.read_csv('/Users/carrieminerich/Desktop/verana/patient_history.csv')\n",
    "\n",
    "# lowercase column headers for easeier analysis\n",
    "patient_history_df.columns = patient_history_df.columns.str.lower()\n",
    "\n",
    "# matrix of # of cigs vs diabetes = 1\n",
    "matrix = pd.crosstab(patient_history_df['cigsperday'], patient_history_df['diabetes'])\n",
    "print(f\"Matrix:{matrix}\")\n",
    "\n",
    "# chi-square test\n",
    "chi2, p, _, _ = stats.chi2_contingency(matrix)\n",
    "\n",
    "print(f\"Chi-Square test for cigs per day and diabetes: {chi2}\")\n",
    "print(f\"P-Value for cigs per day and diabetes: {p}\")\n",
    "\n",
    "# print results\n",
    "if p < 0.05:\n",
    "    print(\"The result is statistically significant. There is a relation between the number of cigarettes smoked per day and diabetes.\")\n",
    "else:\n",
    "    print(\"The result is not statistically significant. There is no strong evidence of a relation between the number of cigarettes smoked per day and diabetes.\")\n",
    "\n",
    "\n",
    "# visualize results\n",
    "fig = px.histogram(patient_history_df, x='cigsperday', color='diabetes', barmode='group',\n",
    "                   title='Number of Cigarettes Smoked per Day vs. Prevalence of Diabetes',\n",
    "                   labels={'cigsperday': 'Number of Cigarettes Smoked per Day', 'count': 'Count'},\n",
    "                   category_orders={'diabetes': [0, 1]})\n",
    "\n",
    "fig.update_layout(xaxis_title='Number of Cigarettes Smoked per Day',\n",
    "                  yaxis_title='Total individual count in patient_history.csv',\n",
    "                  legend_title='Diabetes: 1; No Diabetes:2')\n",
    "\n",
    "fig.show()"
   ]
  }
 ],
 "metadata": {
  "kernelspec": {
   "display_name": "Streamlit Notebook",
   "name": "streamlit"
  }
 },
 "nbformat": 4,
 "nbformat_minor": 5
}
